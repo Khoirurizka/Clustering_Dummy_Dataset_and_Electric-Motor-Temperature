{
 "cells": [
  {
   "cell_type": "code",
   "execution_count": null,
   "id": "9e1d6417-1434-449e-9d40-8c8c2fc7e95c",
   "metadata": {},
   "outputs": [],
   "source": []
  }
 ],
 "metadata": {
  "kernelspec": {
   "display_name": "",
   "name": ""
  },
  "language_info": {
   "name": ""
  }
 },
 "nbformat": 4,
 "nbformat_minor": 5
}
